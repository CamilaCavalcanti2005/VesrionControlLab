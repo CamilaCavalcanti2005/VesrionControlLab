{
 "cells": [
  {
   "cell_type": "code",
   "execution_count": 8,
   "metadata": {},
   "outputs": [
    {
     "name": "stdin",
     "output_type": "stream",
     "text": [
      "Enter your name. test\n",
      "Enter your age. 1\n"
     ]
    },
    {
     "name": "stdout",
     "output_type": "stream",
     "text": [
      "Hello test you are 1years old.\n"
     ]
    }
   ],
   "source": [
    "name = input(\"Enter your name.\")\n",
    "var = True\n",
    "while var == True:\n",
    "    try:\n",
    "        age = int(input(\"Enter your age.\"))\n",
    "        var = False\n",
    "    except:\n",
    "        print(\"no\")\n",
    "        \n",
    "strage= str(age)        \n",
    "print (\"Hello \" +name + \" you are \" + strage+ \" years old.\")\n"
   ]
  },
  {
   "cell_type": "code",
   "execution_count": null,
   "metadata": {},
   "outputs": [],
   "source": []
  }
 ],
 "metadata": {
  "kernelspec": {
   "display_name": "Python 3",
   "language": "python",
   "name": "python3"
  },
  "language_info": {
   "codemirror_mode": {
    "name": "ipython",
    "version": 3
   },
   "file_extension": ".py",
   "mimetype": "text/x-python",
   "name": "python",
   "nbconvert_exporter": "python",
   "pygments_lexer": "ipython3",
   "version": "3.8.3"
  }
 },
 "nbformat": 4,
 "nbformat_minor": 4
}
