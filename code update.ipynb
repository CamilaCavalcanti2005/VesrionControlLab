name = input("Enter your name.")
var = True
while var == True:
    try:
        age = int(input("Enter your age."))
        var = False
    except:
        print("no")
        
strage= str(age)        
print ("Hello " +name + " you are " + strage+ " years old.")


details= {}

details[i] = age;
details[i+1] 
print(ages[i])
